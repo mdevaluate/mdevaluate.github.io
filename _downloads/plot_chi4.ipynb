{
  "cells": [
    {
      "cell_type": "code",
      "execution_count": null,
      "metadata": {
        "collapsed": false
      },
      "outputs": [],
      "source": [
        "%matplotlib inline"
      ]
    },
    {
      "cell_type": "markdown",
      "metadata": {},
      "source": [
        "\nFour-Point susceptibility\n=========================\n\nThe dynamic four-point susceptibility $\\chi_4(t)$ is a measure for heterogenous dynamics. [Berthier]_\nIt can be calculated from the variance of the incoherent intermediate scattering function\n$F_q(t)$.\n\n\\begin{align}\\chi_4 (t) = N\\cdot\\left( \\left\\langle F_q^2(t) \\right\\rangle - \\left\\langle F_q(t) \\right\\rangle^2 \\right)\\end{align}\n\nThis is astraight forward calculation in mdevaluate.\nFirst calculate the ISF without time average and then take the variance along the first axis of this data.\nNote that this quantity requires good statistics, hence it is adviced to use a small time window\nand a sufficient number of segments for the analysis.\nAnother way to reduce scatter is to smooth the data with a running mean,\ncalling :func:`~mdevaluate.utils.runningmean` as shown below.\n\n.. [Berthier] http://link.aps.org/doi/10.1103/Physics.4.42\n\n"
      ]
    },
    {
      "cell_type": "code",
      "execution_count": null,
      "metadata": {
        "collapsed": false
      },
      "outputs": [],
      "source": [
        "from functools import partial\nimport matplotlib.pyplot as plt\nimport mdevaluate as md\nimport tudplot\n\nOW = md.open('/data/niels/sim/water/bulk/260K', trajectory='out/*.xtc').subset(atom_name='OW')\n\nt, Fqt = md.correlation.shifted_correlation(\n    partial(md.correlation.isf, q=22.7),\n    OW,\n    average=False,\n    window=0.2,\n    skip=0.1,\n    segments=20\n)\nchi4 = len(OW[0]) * Fqt.var(axis=0)\n\ntudplot.activate()\n\nplt.plot(t, chi4, 'h', label=r'$\\chi_4$')\nplt.plot(t[2:-2], md.utils.runningmean(chi4, 5), '-', label='smoothed')\n\nplt.semilogx()\nplt.xlabel('time / ps')\nplt.ylabel('$\\\\chi_4$')\nplt.legend(loc='best')"
      ]
    }
  ],
  "metadata": {
    "kernelspec": {
      "display_name": "Python 3",
      "language": "python",
      "name": "python3"
    },
    "language_info": {
      "codemirror_mode": {
        "name": "ipython",
        "version": 3
      },
      "file_extension": ".py",
      "mimetype": "text/x-python",
      "name": "python",
      "nbconvert_exporter": "python",
      "pygments_lexer": "ipython3",
      "version": "3.6.1"
    }
  },
  "nbformat": 4,
  "nbformat_minor": 0
}