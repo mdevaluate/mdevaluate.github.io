{
  "nbformat_minor": 0,
  "cells": [
    {
      "execution_count": null,
      "outputs": [],
      "cell_type": "code",
      "metadata": {
        "collapsed": false
      },
      "source": [
        "%matplotlib inline"
      ]
    },
    {
      "cell_type": "markdown",
      "metadata": {},
      "source": [
        "\nCalculating the ISF of Water\n=======================================================\n\nIn this example the ISF of water oxygens is calculated for a bulk simulation.\nAdditionally a KWW function is fitted to the results.\n\n"
      ]
    },
    {
      "execution_count": null,
      "outputs": [],
      "cell_type": "code",
      "metadata": {
        "collapsed": false
      },
      "source": [
        "from functools import partial\nimport matplotlib.pyplot as plt\nfrom scipy.optimize import curve_fit\nimport mdevaluate as md\nimport tudplot\n\nOW = md.open('/data/niels/sim/water/bulk/260K', trajectory='out/*.xtc').subset(atom_name='OW')\nt, S = md.correlation.shifted_correlation(\n    partial(md.correlation.isf, q=22.7),\n    OW,\n    average=True\n)\n# Only include data-points of the alpha-relaxation for the fit\nmask = t > 3e-1\nfit, cov = curve_fit(md.functions.kww, t[mask], S[mask])\ntau = md.functions.kww_1e(*fit)\n\ntudplot.activate()\nplt.figure()\nplt.plot(t, S, '.', label='ISF of Bulk Water')\nplt.plot(t, md.functions.kww(t, *fit), '-', label=r'KWW, $\\tau$={:.2f}ps'.format(tau))\nplt.xscale('log')\nplt.legend()"
      ]
    }
  ],
  "nbformat": 4,
  "metadata": {
    "kernelspec": {
      "language": "python",
      "display_name": "Python 3",
      "name": "python3"
    },
    "language_info": {
      "version": "3.5.2",
      "mimetype": "text/x-python",
      "nbconvert_exporter": "python",
      "file_extension": ".py",
      "pygments_lexer": "ipython3",
      "name": "python",
      "codemirror_mode": {
        "version": 3,
        "name": "ipython"
      }
    }
  }
}