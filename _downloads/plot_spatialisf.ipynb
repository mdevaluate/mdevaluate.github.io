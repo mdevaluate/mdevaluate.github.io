{
  "cells": [
    {
      "cell_type": "code",
      "execution_count": null,
      "metadata": {
        "collapsed": false
      },
      "outputs": [],
      "source": [
        "%matplotlib inline"
      ]
    },
    {
      "cell_type": "markdown",
      "metadata": {},
      "source": [
        "\nSpatially resolved analysis in a cylindrical pore\n=======================================================\n\nCalculate the spatially resolved ISF inside a cylindrical neutral water pore\nIn this case the bins describe the shortest distance of an oxygen atom to any wall atom\n\n"
      ]
    },
    {
      "cell_type": "code",
      "execution_count": null,
      "metadata": {
        "collapsed": false
      },
      "outputs": [],
      "source": [
        "import numpy as np\nimport matplotlib.pyplot as plt\nimport mdevaluate as md\nimport tudplot\nfrom scipy import spatial\nfrom scipy.optimize import curve_fit\n\n#trajectory with index file\n#TODO eine allgemeinere stelle?\ntraj = md.open('/data/robin/sim/nvt/12kwater/240_r25_0_NVT', \n    trajectory='nojump.xtc', index_file='indexSL.ndx',topology='*.gro')\n#Liquid oxygens\nLO = traj.subset(indices= traj.atoms.indices['LH2O'])\n#Solid oxygens\nSO = traj.subset(indices= traj.atoms.indices['SH2O'])\n#Solid oxygens and bonded hydrogens\nSW = traj.subset(residue_id = SO.atom_subset.residue_ids)\n\n#TODO die folgenden beiden zusammen sind nochmal deutlich schneller als\n#md.atom.distance_to_atoms, kannst du entweder in irgendeiner weise einbauen\n#oder hier lassen, man muss aber auf thickness achten, dass das sinn macht\n#adds periodic layers of the atoms\ndef pbc_points(points, box_vector, thickness=0, index=False, inclusive=True):\n    coordinates = np.copy(points)%box_vector\n    allcoordinates = np.copy(coordinates)\n    indices = np.tile(np.arange(len(points)),(27))\n    for x in range(-1, 2, 1):\n            for y in range(-1, 2, 1):\n                for z in range(-1, 2, 1):\n                    vv = np.array([x, y, z], dtype=float)\n                    if not (vv == 0).all() :\n                        allcoordinates = np.concatenate((allcoordinates, coordinates + vv*box_vector), axis=0)\n    \n    if thickness != 0:\n        mask = np.all(allcoordinates < box_vector+thickness, axis=1)\n        allcoordinates = allcoordinates[mask]\n        indices = indices[mask]\n        mask = np.all(allcoordinates > -thickness, axis=1)\n        allcoordinates = allcoordinates[mask]\n        indices = indices[mask]\n    if not inclusive:\n        allcoordinates = allcoordinates[len(points):]\n        indices = indices[len(points):]\n    if index:\n        return (allcoordinates, indices)\n    return allcoordinates\n\n#fast calculation of shortest distance from one subset to another, uses pbc_points\ndef distance_to_atoms(ref, observed_atoms, box=None, thickness=0.5):\n    if box is not None:\n        start_coords = np.copy(observed_atoms)%box\n        all_frame_coords = pbc_points(ref, box, thickness = thickness)\n    else:\n        start_coords = np.copy(observed_atoms)\n        all_frame_coords = np.copy(ref)\n    \n    tree = spatial.cKDTree(all_frame_coords)\n    first_neighbors = tree.query(start_coords)[0]\n    return first_neighbors\n\n#this is used to reduce the number of wall atoms to those relevant, speeds up the rest\ndist = distance_to_atoms(LO[0], SW[0], np.diag(LO[0].box))\nwall_atoms = SW.atom_subset.indices[0]\nwall_atoms = wall_atoms[dist < 0.35]\nSW = traj.subset(indices = wall_atoms)\n\nfrom functools import partial\nfunc = partial(md.correlation.isf, q=22.7)\n\n#selector function to choose liquid oxygens with a certain distance to wall atoms\ndef selector_func(coords, lindices, windices, dmin, dmax):\n    lcoords = coords[lindices]\n    wcoords = coords[windices]\n    dist = distance_to_atoms(wcoords, lcoords,box=np.diag(coords.box))\n    #radial distance to pore center to ignore molecules that entered the wall\n    rad = np.sum((lcoords[:,:2]-np.diag(coords.box)[:2]/2)**2,axis=1)**.5\n    return lindices[(dist >= dmin) & (dist < dmax) & (rad < 2.7)]\n    \n#calculate the shifted correlation for several bins\n#bin positions are roughly the average of the limits\nbins = np.array([0.15,0.2,0.3,0.4,0.5,0.8,1.0,1.4,1.8,2.3])\nbinpos = (bins[1:]+bins[:-1])/2\nS = np.empty(len(bins)-1, dtype='object')\nfor i in range(len(bins)-1):\n    selector = partial(selector_func,lindices=LO.atom_subset.indices[0],\n                      windices=SW.atom_subset.indices[0],dmin=bins[i],\n                      dmax = bins[i+1])\n    t, S[i] = md.correlation.shifted_correlation(\n            func, traj,segments=50, skip=0.1,average=True,\n            correlation=md.correlation.subensemble_correlation(selector),\n            description=str(bins[i])+','+str(bins[i+1]))\n    \ntaus = np.zeros(len(S))\ntudplot.activate()\nplt.figure()\nfor i,s in enumerate(S):\n    pl = plt.plot(t, s, '.', label='d = ' + str(binpos[i]) + ' nm')\n    #only includes the relevant data for 1/e fitting\n    mask = s < 0.6\n    fit, cov = curve_fit(md.functions.kww, t[mask], s[mask],\n                         p0=[1.0,t[t>1/np.e][-1],0.5])\n    taus[i] = md.functions.kww_1e(*fit)\n    plt.plot(t, md.functions.kww(t, *fit), c=pl[0].get_color())\nplt.xscale('log')\nplt.legend()\n#plt.show()\n\ntudplot.activate()\nplt.figure()\nplt.plot(binpos, taus,'.',label=r'$\\tau$(d)')\nplt.yscale('log')\nplt.legend()\n#plt.show()"
      ]
    }
  ],
  "metadata": {
    "kernelspec": {
      "display_name": "Python 3",
      "language": "python",
      "name": "python3"
    },
    "language_info": {
      "codemirror_mode": {
        "name": "ipython",
        "version": 3
      },
      "file_extension": ".py",
      "mimetype": "text/x-python",
      "name": "python",
      "nbconvert_exporter": "python",
      "pygments_lexer": "ipython3",
      "version": "3.6.3"
    }
  },
  "nbformat": 4,
  "nbformat_minor": 0
}