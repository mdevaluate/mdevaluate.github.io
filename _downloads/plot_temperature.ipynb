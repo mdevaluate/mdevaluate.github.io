{
  "cells": [
    {
      "cell_type": "code",
      "execution_count": null,
      "metadata": {
        "collapsed": false
      },
      "outputs": [],
      "source": [
        "%matplotlib inline"
      ]
    },
    {
      "cell_type": "markdown",
      "metadata": {},
      "source": [
        "\nPlotting the Temperature from an Energy File\n============================================\n\nThis example reads an Gromacs energy file and plots the evolultion and mean of the temperature.\n\n"
      ]
    },
    {
      "cell_type": "code",
      "execution_count": null,
      "metadata": {
        "collapsed": false
      },
      "outputs": [],
      "source": [
        "from matplotlib import pyplot as plt\nimport mdevaluate as md\nimport tudplot\n\ntudplot.activate()\n\nedr = md.open_energy('/data/niels/sim/water/bulk/300K/out/energy_water1000bulk300.edr')\nT = edr['Temperature']\nplt.plot(edr.time, T)\nplt.plot(edr.time[[0, -1]], [T.mean(), T.mean()])"
      ]
    }
  ],
  "metadata": {
    "kernelspec": {
      "display_name": "Python 3",
      "language": "python",
      "name": "python3"
    },
    "language_info": {
      "codemirror_mode": {
        "name": "ipython",
        "version": 3
      },
      "file_extension": ".py",
      "mimetype": "text/x-python",
      "name": "python",
      "nbconvert_exporter": "python",
      "pygments_lexer": "ipython3",
      "version": "3.6.1"
    }
  },
  "nbformat": 4,
  "nbformat_minor": 0
}