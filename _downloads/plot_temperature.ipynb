{
  "nbformat": 4,
  "nbformat_minor": 0,
  "metadata": {
    "language_info": {
      "mimetype": "text/x-python",
      "file_extension": ".py",
      "nbconvert_exporter": "python",
      "version": "3.5.2",
      "codemirror_mode": {
        "version": 3,
        "name": "ipython"
      },
      "name": "python",
      "pygments_lexer": "ipython3"
    },
    "kernelspec": {
      "display_name": "Python 3",
      "language": "python",
      "name": "python3"
    }
  },
  "cells": [
    {
      "source": [
        "%matplotlib inline"
      ],
      "cell_type": "code",
      "metadata": {
        "collapsed": false
      },
      "outputs": [],
      "execution_count": null
    },
    {
      "cell_type": "markdown",
      "metadata": {},
      "source": [
        "\nPlotting the Temperature from an Energy File\n============================================\n\nThis example reads an Gromacs energy file and plots the evolultion and mean of the temperature.\n\n"
      ]
    },
    {
      "source": [
        "from matplotlib import pyplot as plt\nimport mdevaluate as md\nimport tudplot\n\ntudplot.activate()\n\nedr = md.open_energy('/data/niels/sim/water/bulk/300K/out/energy_water1000bulk300.edr')\nT = edr['Temperature']\nplt.plot(edr.time, T)\nplt.plot(edr.time[[0, -1]], [T.mean(), T.mean()])"
      ],
      "cell_type": "code",
      "metadata": {
        "collapsed": false
      },
      "outputs": [],
      "execution_count": null
    }
  ]
}